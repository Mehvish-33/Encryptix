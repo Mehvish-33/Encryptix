{
  "nbformat": 4,
  "nbformat_minor": 0,
  "metadata": {
    "colab": {
      "provenance": [],
      "authorship_tag": "ABX9TyNDyNCNzSnZ+xS9w9XpIcNN",
      "include_colab_link": true
    },
    "kernelspec": {
      "name": "python3",
      "display_name": "Python 3"
    },
    "language_info": {
      "name": "python"
    }
  },
  "cells": [
    {
      "cell_type": "markdown",
      "metadata": {
        "id": "view-in-github",
        "colab_type": "text"
      },
      "source": [
        "<a href=\"https://colab.research.google.com/github/Mehvish-33/Encryptix/blob/main/movie_genre_classification.ipynb\" target=\"_parent\"><img src=\"https://colab.research.google.com/assets/colab-badge.svg\" alt=\"Open In Colab\"/></a>"
      ]
    },
    {
      "cell_type": "code",
      "execution_count": 5,
      "metadata": {
        "id": "IPwWKRbn1APz"
      },
      "outputs": [],
      "source": []
    },
    {
      "cell_type": "code",
      "source": [
        "import pandas as pd\n",
        "from sklearn.model_selection import train_test_split\n",
        "from sklearn.feature_extraction.text import TfidfVectorizer\n",
        "from sklearn.naive_bayes import MultinomialNB\n",
        "from sklearn.pipeline import Pipeline\n",
        "from sklearn.metrics import accuracy_score, classification_report\n",
        "from sklearn.preprocessing import LabelEncoder\n",
        "\n",
        "# Load the training data\n",
        "train_data = pd.read_csv(\"/train_data.txt\", delimiter=\"\\t\", header=None, names=['DATA'])\n",
        "print(train_data.head())\n",
        "\n",
        "# Extract relevant parts from the 'DATA' column\n",
        "train_data[['ID', 'TITLE', 'GENRE', 'DESCRIPTION']] = train_data['DATA'].str.split(' ::: ', expand=True)\n",
        "train_data.drop(columns=['DATA'], inplace=True)\n",
        "\n",
        "# Print the cleaned train_data dataframe\n",
        "print(train_data.head())\n",
        "\n",
        "# Encode the genre labels\n",
        "encoder = LabelEncoder()\n",
        "train_data[\"GENRE\"] = encoder.fit_transform(train_data[\"GENRE\"])\n",
        "\n",
        "# Split the data into features (X) and labels (Y)\n",
        "X = train_data[\"DESCRIPTION\"]\n",
        "Y = train_data[\"GENRE\"]\n",
        "\n",
        "# Define a pipeline with TF-IDF vectorizer and MultinomialNB classifier\n",
        "clf = Pipeline([\n",
        "    ('tfidf', TfidfVectorizer(max_features=5000)),\n",
        "    ('nb', MultinomialNB())\n",
        "])\n",
        "\n",
        "# Train the model\n",
        "clf.fit(X, Y)\n",
        "\n",
        "# Load the test data\n",
        "test_data = pd.read_csv(\"/test_data_solution.txt\", delimiter=\"\\t\", header=None, names=['DATA'])\n",
        "print(test_data.head())\n",
        "\n",
        "# Extract relevant parts from the 'DATA' column in test data\n",
        "test_data[['ID', 'TITLE', 'GENRE', 'DESCRIPTION']] = test_data['DATA'].str.split(' ::: ', expand=True)\n",
        "test_data.drop(columns=['DATA'], inplace=True)\n",
        "\n",
        "# Encode the genre labels in test data\n",
        "test_data[\"GENRE\"] = encoder.transform(test_data[\"GENRE\"])\n",
        "\n",
        "# Split the test data into features (X_test) and labels (Y_test)\n",
        "X_test = test_data[\"DESCRIPTION\"]\n",
        "Y_test = test_data[\"GENRE\"]\n",
        "\n",
        "# Make predictions on the test data\n",
        "y_pred = clf.predict(X_test)\n",
        "\n",
        "# Evaluate the model\n",
        "accuracy = accuracy_score(Y_test, y_pred)\n",
        "print(f\"Accuracy: {accuracy}\")\n",
        "print(classification_report(Y_test, y_pred, target_names=encoder.classes_))\n"
      ],
      "metadata": {
        "colab": {
          "base_uri": "https://localhost:8080/"
        },
        "id": "GosMUStMWbhB",
        "outputId": "556fa84a-78ba-4455-9cd1-d70c63056916"
      },
      "execution_count": 7,
      "outputs": [
        {
          "output_type": "stream",
          "name": "stdout",
          "text": [
            "                                                DATA\n",
            "0  1 ::: Oscar et la dame rose (2009) ::: drama :...\n",
            "1  2 ::: Cupid (1997) ::: thriller ::: A brother ...\n",
            "2  3 ::: Young, Wild and Wonderful (1980) ::: adu...\n",
            "3  4 ::: The Secret Sin (1915) ::: drama ::: To h...\n",
            "4  5 ::: The Unrecovered (2007) ::: drama ::: The...\n",
            "  ID                             TITLE     GENRE  \\\n",
            "0  1      Oscar et la dame rose (2009)     drama   \n",
            "1  2                      Cupid (1997)  thriller   \n",
            "2  3  Young, Wild and Wonderful (1980)     adult   \n",
            "3  4             The Secret Sin (1915)     drama   \n",
            "4  5            The Unrecovered (2007)     drama   \n",
            "\n",
            "                                         DESCRIPTION  \n",
            "0  Listening in to a conversation between his doc...  \n",
            "1  A brother and sister with a past incestuous re...  \n",
            "2  As the bus empties the students for their fiel...  \n",
            "3  To help their unemployed father make ends meet...  \n",
            "4  The film's title refers not only to the un-rec...  \n",
            "                                                DATA\n",
            "0  1 ::: Edgar's Lunch (1998) ::: thriller ::: L....\n",
            "1  2 ::: La guerra de papá (1977) ::: comedy ::: ...\n",
            "2  3 ::: Off the Beaten Track (2010) ::: document...\n",
            "3  4 ::: Meu Amigo Hindu (2015) ::: drama ::: His...\n",
            "4  5 ::: Er nu zhai (1955) ::: drama ::: Before h...\n",
            "Accuracy: 0.5136715867158672\n",
            "              precision    recall  f1-score   support\n",
            "\n",
            "      action       0.61      0.08      0.13      1314\n",
            "       adult       0.53      0.04      0.07       590\n",
            "   adventure       0.78      0.04      0.08       775\n",
            "   animation       0.00      0.00      0.00       498\n",
            "   biography       0.00      0.00      0.00       264\n",
            "      comedy       0.52      0.40      0.45      7446\n",
            "       crime       0.00      0.00      0.00       505\n",
            " documentary       0.56      0.88      0.69     13096\n",
            "       drama       0.45      0.83      0.58     13612\n",
            "      family       1.00      0.00      0.00       783\n",
            "     fantasy       0.00      0.00      0.00       322\n",
            "   game-show       0.96      0.12      0.22       193\n",
            "     history       0.00      0.00      0.00       243\n",
            "      horror       0.73      0.28      0.41      2204\n",
            "       music       0.76      0.10      0.18       731\n",
            "     musical       0.00      0.00      0.00       276\n",
            "     mystery       0.00      0.00      0.00       318\n",
            "        news       0.00      0.00      0.00       181\n",
            "  reality-tv       0.41      0.01      0.02       883\n",
            "     romance       0.00      0.00      0.00       672\n",
            "      sci-fi       0.70      0.02      0.05       646\n",
            "       short       0.61      0.10      0.16      5072\n",
            "       sport       0.80      0.09      0.16       431\n",
            "   talk-show       0.00      0.00      0.00       391\n",
            "    thriller       0.44      0.01      0.02      1590\n",
            "         war       0.00      0.00      0.00       132\n",
            "     western       0.96      0.53      0.69      1032\n",
            "\n",
            "    accuracy                           0.51     54200\n",
            "   macro avg       0.40      0.13      0.14     54200\n",
            "weighted avg       0.52      0.51      0.43     54200\n",
            "\n"
          ]
        },
        {
          "output_type": "stream",
          "name": "stderr",
          "text": [
            "/usr/local/lib/python3.10/dist-packages/sklearn/metrics/_classification.py:1344: UndefinedMetricWarning: Precision and F-score are ill-defined and being set to 0.0 in labels with no predicted samples. Use `zero_division` parameter to control this behavior.\n",
            "  _warn_prf(average, modifier, msg_start, len(result))\n",
            "/usr/local/lib/python3.10/dist-packages/sklearn/metrics/_classification.py:1344: UndefinedMetricWarning: Precision and F-score are ill-defined and being set to 0.0 in labels with no predicted samples. Use `zero_division` parameter to control this behavior.\n",
            "  _warn_prf(average, modifier, msg_start, len(result))\n",
            "/usr/local/lib/python3.10/dist-packages/sklearn/metrics/_classification.py:1344: UndefinedMetricWarning: Precision and F-score are ill-defined and being set to 0.0 in labels with no predicted samples. Use `zero_division` parameter to control this behavior.\n",
            "  _warn_prf(average, modifier, msg_start, len(result))\n"
          ]
        }
      ]
    }
  ]
}